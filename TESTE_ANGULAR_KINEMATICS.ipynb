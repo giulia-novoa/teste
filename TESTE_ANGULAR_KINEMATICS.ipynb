{
  "nbformat": 4,
  "nbformat_minor": 0,
  "metadata": {
    "colab": {
      "name": "TESTE_ANGULAR_KINEMATICS.ipynb",
      "provenance": []
    },
    "kernelspec": {
      "name": "python3",
      "display_name": "Python 3"
    }
  },
  "cells": [
    {
      "cell_type": "markdown",
      "metadata": {
        "id": "txzjCkPddNYW"
      },
      "source": [
        "# Angular kinematics in a plane (2D)\n",
        "\n",
        "Marcos Duarte"
      ]
    },
    {
      "cell_type": "markdown",
      "metadata": {
        "id": "gORkllQRhF6w"
      },
      "source": [
        "<h1>Contents<span class=\"tocSkip\"></span></h1>\n",
        "<div class=\"toc\"><ul class=\"toc-item\"><li><span><a href=\"#Python-setup\" data-toc-modified-id=\"Python-setup-1\"><span class=\"toc-item-num\">1&nbsp;&nbsp;</span>Python setup</a></span></li><li><span><a href=\"#Angles-in-a-plane\" data-toc-modified-id=\"Angles-in-a-plane-2\"><span class=\"toc-item-num\">2&nbsp;&nbsp;</span>Angles in a plane</a></span></li><li><span><a href=\"#Angle-between-two-3D-vectors\" data-toc-modified-id=\"Angle-between-two-3D-vectors-3\"><span class=\"toc-item-num\">3&nbsp;&nbsp;</span>Angle between two 3D vectors</a></span></li><li><span><a href=\"#Angular-position-velocity-and-acceleration\" data-toc-modified-id=\"Angular-position-velocity-and-acceleration-4\"><span class=\"toc-item-num\">4&nbsp;&nbsp;</span>Angular position, velocity, and acceleration</a></span><ul class=\"toc-item\"><li><span><a href=\"#The-antiderivative\" data-toc-modified-id=\"The-antiderivative-4.1\"><span class=\"toc-item-num\">4.1&nbsp;&nbsp;</span>The antiderivative</a></span></li></ul></li><li><span><a href=\"#Relationship-between-linear-and-angular-kinematics\" data-toc-modified-id=\"Relationship-between-linear-and-angular-kinematics-5\"><span class=\"toc-item-num\">5&nbsp;&nbsp;</span>Relationship between linear and angular kinematics</a></span></li><li><span><a href=\"#Further-reading\" data-toc-modified-id=\"Further-reading-6\"><span class=\"toc-item-num\">6&nbsp;&nbsp;</span>Further reading</a></span></li><li><span><a href=\"#Video-lectures-on-the-Internet\" data-toc-modified-id=\"Video-lectures-on-the-Internet-7\"><span class=\"toc-item-num\">7&nbsp;&nbsp;</span>Video lectures on the Internet</a></span></li><li><span><a href=\"#Problems\" data-toc-modified-id=\"Problems-8\"><span class=\"toc-item-num\">8&nbsp;&nbsp;</span>Problems</a></span></li><li><span><a href=\"#References\" data-toc-modified-id=\"References-9\"><span class=\"toc-item-num\">9&nbsp;&nbsp;</span>References</a></span></li></ul></div>"
      ]
    },
    {
      "cell_type": "markdown",
      "metadata": {
        "id": "-j8tXrk1dSIc"
      },
      "source": [
        "Human motion is a combination of linear and angular movement and occurs in the three-dimensional (3D) space. For certain movements and depending on the desired or needed degree of detail for the motion analysis, it's possible to perform a two-dimensional (2D, planar) analysis at the main plane of movement. Such simplification is appreciated because the instrumentation and analysis are much more complicated in order to measure 3D motion than for the 2D case."
      ]
    },
    {
      "cell_type": "markdown",
      "metadata": {
        "id": "-Wb-NcroiILC"
      },
      "source": [
        "## Python setup"
      ]
    },
    {
      "cell_type": "code",
      "metadata": {
        "id": "o2Ger3R_iXqq"
      },
      "source": [
        "# Import the necessary libraries\n",
        "import numpy as np\n",
        "from IPython.display import display, Latex\n",
        "import matplotlib\n",
        "import matplotlib.pyplot as plt\n",
        "%matplotlib inline\n",
        "import seaborn as sns\n",
        "sns.set_context(\"notebook\", font_scale=1.2, rc={\"lines.linewidth\": 2, \"lines.markersize\": 8})"
      ],
      "execution_count": 24,
      "outputs": []
    },
    {
      "cell_type": "markdown",
      "metadata": {
        "id": "jiqckVRriY7j"
      },
      "source": [
        "## Angles in a plane"
      ]
    },
    {
      "cell_type": "markdown",
      "metadata": {
        "id": "9tzd9_9Xincq"
      },
      "source": [
        "For the planar case, the calculation of angles is reduced to the application of trigonometry to the kinematic data. For instance, given the coordinates in a plane of markers on a segment as shown in the figure below, the angle of the segment can be calculated using the inverse function of <span class=\"notranslate\"> $\\sin$, $\\cos$ </span>, or <span class=\"notranslate\"> $\\tan$ </span>.\n",
        "\n",
        "<div class='center-align'><figure><img src=\"./../images/segment.png\" width=250/><figcaption><figcaption><center><i>Figure. A segment in a plane and its coordinates.</i></center></figcaption> </figure></div>"
      ]
    },
    {
      "cell_type": "markdown",
      "metadata": {
        "id": "CeGV6Zp5jrKl"
      },
      "source": [
        "For better numerical accuracy (and also to distinguish values in the whole quadrant), the inverse function of <span class=\"notranslate\">$\\tan$</span> is preferred.   \n",
        "For the data shown in the previous figure:   \n",
        "\n",
        "<span class=\"notranslate\">\n",
        "$$ \\theta = arctan\\left(\\frac{y_2-y_1}{x_2-x_1}\\right) $$\n",
        "</span>"
      ]
    },
    {
      "cell_type": "markdown",
      "metadata": {
        "id": "rdDtjZZzjsTa"
      },
      "source": [
        "In computer programming (here, Python/Numpy) this is calculated using: `numpy.arctan((y2-y1)/(x2-x1))`. However, for the previous figure the function `arctan` can not distinguish if the segment is at 45$^o$ or at 225$^o$, `arctan` will return the same value. Because this, the function `numpy.arctan2(y, x)` is used, but be aware that `arctan2` will return angles between $[-\\pi,\\pi]$:"
      ]
    },
    {
      "cell_type": "code",
      "metadata": {
        "id": "1Z-GtDVmjxBk",
        "outputId": "1afd9589-d253-4913-a468-0b8887234514",
        "colab": {
          "base_uri": "https://localhost:8080/",
          "height": 84
        }
      },
      "source": [
        "x1, y1 = 0, 0\n",
        "x2, y2 = 1, 1\n",
        "\n",
        "display(Latex('Segment at 45$^o$:'))\n",
        "angs = [ np.arctan((1-0)/(1-0))*180/np.pi, np.arctan2(1-0, 1-0)*180/np.pi ]\n",
        "display(Latex('Using arctan: '+str(angs[0])+'$\\quad$'+'Using arctan2: '+str(angs[1])))\n",
        "display(Latex('Segment at 225$^o$:'))\n",
        "angs = [ np.arctan((-1-0)/(-1-0))*180/np.pi, np.arctan2(-1-0, -1-0)*180/np.pi ]\n",
        "display(Latex('Using arctan: '+str(angs[0])+'$\\quad$'+'Using arctan2: '+str(angs[1])))"
      ],
      "execution_count": 25,
      "outputs": [
        {
          "output_type": "display_data",
          "data": {
            "text/latex": "Segment at 45$^o$:",
            "text/plain": [
              "<IPython.core.display.Latex object>"
            ]
          },
          "metadata": {
            "tags": []
          }
        },
        {
          "output_type": "display_data",
          "data": {
            "text/latex": "Using arctan: 45.0$\\quad$Using arctan2: 45.0",
            "text/plain": [
              "<IPython.core.display.Latex object>"
            ]
          },
          "metadata": {
            "tags": []
          }
        },
        {
          "output_type": "display_data",
          "data": {
            "text/latex": "Segment at 225$^o$:",
            "text/plain": [
              "<IPython.core.display.Latex object>"
            ]
          },
          "metadata": {
            "tags": []
          }
        },
        {
          "output_type": "display_data",
          "data": {
            "text/latex": "Using arctan: 45.0$\\quad$Using arctan2: -135.0",
            "text/plain": [
              "<IPython.core.display.Latex object>"
            ]
          },
          "metadata": {
            "tags": []
          }
        }
      ]
    },
    {
      "cell_type": "markdown",
      "metadata": {
        "id": "NykbWZxWj2Yz"
      },
      "source": [
        "And Numpy has a function to convert an angle in rad to degrees and the other way around:"
      ]
    },
    {
      "cell_type": "code",
      "metadata": {
        "id": "IdUVzjKGj3OJ",
        "outputId": "0c3b153b-1b1c-4e6d-ca5e-2921a37ed084",
        "colab": {
          "base_uri": "https://localhost:8080/",
          "height": 50
        }
      },
      "source": [
        "print('np.rad2deg(np.pi/2) =', np.rad2deg(np.pi))\n",
        "print('np.deg2rad(180) =', np.deg2rad(180))"
      ],
      "execution_count": 26,
      "outputs": [
        {
          "output_type": "stream",
          "text": [
            "np.rad2deg(np.pi/2) = 180.0\n",
            "np.deg2rad(180) = 3.141592653589793\n"
          ],
          "name": "stdout"
        }
      ]
    },
    {
      "cell_type": "markdown",
      "metadata": {
        "id": "7kc6Bi3Dj6eL"
      },
      "source": [
        "Let's simulate a 2D motion of the arm performing two complete turns around the shoulder to exemplify the use of `arctan2`:"
      ]
    },
    {
      "cell_type": "code",
      "metadata": {
        "id": "GbTRsYVoj8GL",
        "outputId": "9ae49c3e-87dc-44ad-be7f-0e11d6880793",
        "colab": {
          "base_uri": "https://localhost:8080/",
          "height": 288
        }
      },
      "source": [
        "t = np.arange(0, 2, 0.01)\n",
        "x = np.cos(2*np.pi*t)\n",
        "y = np.sin(2*np.pi*t)\n",
        "ang = np.arctan2(y, x)*180/np.pi\n",
        "\n",
        "plt.figure(figsize=(12, 4))\n",
        "hax1 = plt.subplot2grid((2, 3), (0, 0), rowspan=2)\n",
        "hax1.plot(x, y, 'go')\n",
        "hax1.plot(0, 0, 'go')\n",
        "hax1.set_xlabel('x [m]')\n",
        "hax1.set_ylabel('y [m]')\n",
        "hax1.set_xlim([-1.1, 1.1])\n",
        "hax1.set_ylim([-1.1, 1.1])\n",
        "hax2 = plt.subplot2grid((2, 3), (0, 1), colspan=2)\n",
        "hax2.plot(t, x, 'bo', label='x')\n",
        "hax2.plot(t, y, 'ro', label='y')\n",
        "hax2.legend(numpoints=1, frameon=True, framealpha=.8)\n",
        "hax2.set_ylabel('Position [m]')\n",
        "hax2.set_ylim([-1.1, 1.1])\n",
        "hax3 = plt.subplot2grid((2, 3), (1, 1), colspan=2)\n",
        "hax3.plot(t, ang, 'go')\n",
        "hax3.set_yticks(np.arange(-180, 181, 90))\n",
        "hax3.set_xlabel('Time [s]')\n",
        "hax3.set_ylabel('Angle [ $^o$]')\n",
        "plt.tight_layout()"
      ],
      "execution_count": 27,
      "outputs": [
        {
          "output_type": "display_data",
          "data": {
            "image/png": "[encoded data removed]",
            "text/plain": [
              "<Figure size 864x288 with 3 Axes>"
            ]
          },
          "metadata": {
            "tags": [],
            "needs_background": "light"
          }
        }
      ]
    },
    {
      "cell_type": "markdown",
      "metadata": {
        "id": "LAJn4ll4j-lz"
      },
      "source": [
        "Because the output of the `arctan2` is bounded to $[-\\pi,\\pi]$, the angle measured appears chopped in the figure. This problem can be solved using the function `numpy.unwrap`, which detects sudden jumps in the angle and corrects that:"
      ]
    },
    {
      "cell_type": "code",
      "metadata": {
        "id": "E3V-Ynh3kAS3",
        "outputId": "b57bcd7c-b170-4721-a661-2c488428eb0b",
        "colab": {
          "base_uri": "https://localhost:8080/",
          "height": 216
        }
      },
      "source": [
        "ang = np.unwrap(np.arctan2(y, x))*180/np.pi\n",
        "\n",
        "hfig, hax = plt.subplots(1,1, figsize=(8,3))\n",
        "hax.plot(t, ang, 'go')\n",
        "hax.set_yticks(np.arange(start=0, stop=721, step=90))\n",
        "hax.set_xlabel('Time [s]')\n",
        "hax.set_ylabel('Angle [ $^o$]')\n",
        "plt.tight_layout()"
      ],
      "execution_count": 28,
      "outputs": [
        {
          "output_type": "display_data",
          "data": {
            "image/png": "[encoded data removed]",
            "text/plain": [
              "<Figure size 576x216 with 1 Axes>"
            ]
          },
          "metadata": {
            "tags": [],
            "needs_background": "light"
          }
        }
      ]
    },
    {
      "cell_type": "markdown",
      "metadata": {
        "id": "p0oq7S6TkB2_"
      },
      "source": [
        "If now we want to measure the angle of a joint (i.e., the angle of a segment in relation to other segment) we just have to subtract the two segment angles (but this is correct only if the angles are at the same plane):"
      ]
    },
    {
      "cell_type": "code",
      "metadata": {
        "id": "DZnVaSq1kD8g",
        "outputId": "b9ddd327-48e7-4baf-b9e8-728a063aaadd",
        "colab": {
          "base_uri": "https://localhost:8080/",
          "height": 216
        }
      },
      "source": [
        "x1, y1 = 0.0, 0.0\n",
        "x2, y2 = 1.0, 1.0 \n",
        "x3, y3 = 1.1, 1.0\n",
        "x4, y4 = 2.1, 0.0\n",
        "\n",
        "hfig, hax = plt.subplots(1,1, figsize=(8,3))\n",
        "hax.plot((x1,x2), (y1,y2), 'b-', (x1,x2), (y1,y2), 'ro', linewidth=3, markersize=12)\n",
        "hax.add_patch(matplotlib.patches.FancyArrowPatch(posA=(x1+np.sqrt(2)/3, y1),\n",
        "                                                 posB=(x2/3, y2/3),\\\n",
        "      arrowstyle='->,head_length=10,head_width=5', connectionstyle='arc3,rad=0.3'))\n",
        "plt.text(1/2, 1/5, '$\\\\theta_1$', fontsize=24)\n",
        "hax.plot((x3,x4), (y3,y4), 'b-', (x3,x4), (y3,y4), 'ro', linewidth=3, markersize=12)\n",
        "hax.add_patch(matplotlib.patches.FancyArrowPatch(posA=(x4+np.sqrt(2)/3, y4),\n",
        "                                                 posB=(x4-1/3, y4+1/3),\\\n",
        "      arrowstyle='->,head_length=10,head_width=5', connectionstyle='arc3,rad=0.3'))\n",
        "hax.xaxis.set_ticks((x1,x2,x3,x4))\n",
        "hax.yaxis.set_ticks((y1,y2,y3,y4))\n",
        "hax.xaxis.set_ticklabels(('$x_1$','$x_2$','$x_3$','$x_4$'), fontsize=20)\n",
        "hax.yaxis.set_ticklabels(('$y_1,\\,y_4$','$y_2,\\,y_3$'), fontsize=20)\n",
        "plt.text(x4+.2,y4+.3,'$\\\\theta_2$', fontsize=24)\n",
        "hax.add_patch(matplotlib.patches.FancyArrowPatch(posA=(x2-1/3, y2-1/3),\n",
        "                                                 posB=(x3+1/3, y3-1/3),\\\n",
        "      arrowstyle='->,head_length=10,head_width=5', connectionstyle='arc3,rad=0.3'))\n",
        "plt.text(x1+.8,y1+.35,'$\\\\theta_J=\\\\theta_2-\\\\theta_1$', fontsize=24)\n",
        "hax.set_xlim(min([x1,x2,x3,x4])-0.1, max([x1,x2,x3,x4])+0.5)\n",
        "hax.set_ylim(min([y1,y2,y3,y4])-0.1, max([y1,y2,y3,y4])+0.1)\n",
        "hax.grid(xdata=(0,1), ydata=(0,1))\n",
        "plt.tight_layout()"
      ],
      "execution_count": 29,
      "outputs": [
        {
          "output_type": "display_data",
          "data": {
            "image/png": "[encoded data removed]",
            "text/plain": [
              "<Figure size 576x216 with 1 Axes>"
            ]
          },
          "metadata": {
            "tags": [],
            "needs_background": "light"
          }
        }
      ]
    },
    {
      "cell_type": "markdown",
      "metadata": {
        "id": "DPEfJdRMkGzq"
      },
      "source": [
        "The joint angle shown above is simply the difference between the adjacent segment angles:"
      ]
    },
    {
      "cell_type": "code",
      "metadata": {
        "id": "0zcls8TbkHY4",
        "outputId": "c96b5cd2-d3b1-4173-8c01-0336d28dad7c",
        "colab": {
          "base_uri": "https://localhost:8080/",
          "height": 67
        }
      },
      "source": [
        "x1, y1, x2, y2 = 0, 0, 1, 1 \n",
        "x3, y3, x4, y4 = 1.1, 1, 2.1, 0\n",
        "ang1 = np.arctan2(y2-y1, x2-x1)*180/np.pi\n",
        "ang2 = np.arctan2(y3-y4, x3-x4)*180/np.pi\n",
        "\n",
        "#print('Angle 1:', ang1, '\\nAngle 2:', ang2, '\\nJoint angle:', ang2-ang1)\n",
        "display(Latex('$\\\\theta_1=\\;$' + str(ang1) + '$^o$'))\n",
        "display(Latex('$\\\\theta_2=\\;$' + str(ang2) + '$^o$'))\n",
        "display(Latex('$\\\\theta_J=\\;$' + str(ang2-ang1) + '$^o$'))"
      ],
      "execution_count": 30,
      "outputs": [
        {
          "output_type": "display_data",
          "data": {
            "text/latex": "$\\theta_1=\\;$45.0$^o$",
            "text/plain": [
              "<IPython.core.display.Latex object>"
            ]
          },
          "metadata": {
            "tags": []
          }
        },
        {
          "output_type": "display_data",
          "data": {
            "text/latex": "$\\theta_2=\\;$135.0$^o$",
            "text/plain": [
              "<IPython.core.display.Latex object>"
            ]
          },
          "metadata": {
            "tags": []
          }
        },
        {
          "output_type": "display_data",
          "data": {
            "text/latex": "$\\theta_J=\\;$90.0$^o$",
            "text/plain": [
              "<IPython.core.display.Latex object>"
            ]
          },
          "metadata": {
            "tags": []
          }
        }
      ]
    },
    {
      "cell_type": "markdown",
      "metadata": {
        "id": "ET0AYfIzkMX_"
      },
      "source": [
        "The following convention is commonly used to describe the knee and ankle joint angles at the sagittal plane (figure from Winter 2005):\n",
        "\n",
        "<div class='center-align'><figure><img src='./../images/jointangles.png' width=350 alt='Joint angle convention'/> <figcaption><center><i>Figure. Convention for the sagital joint angles of the lower limb (from Winter, 2009).</i></center></figcaption></figure></div>"
      ]
    },
    {
      "cell_type": "markdown",
      "metadata": {
        "id": "vZOIrIH6kO58"
      },
      "source": [
        "## Angle between two 3D vectors\n",
        "\n",
        "In certain cases, we have access to the 3D coordinates of markers but we just care for the angle between segments in the plane defined by these segments (but if there is considerable movement in different planes, this simple 2D angle might give unexpected results).   \n",
        "Consider that `p1` and `p2` are the 3D coordinates of markers placed on segment 1 and `p2` and `p3` are the 3D coordinates of the markers on segment 2.    \n",
        "\n",
        "To determine the 2D angle between the segments, one can use the definition of the dot product:\n",
        "\n",
        "<span class=\"notranslate\">\n",
        "$$ \\mathbf{a} \\cdot \\mathbf{b} = ||\\mathbf{a}||\\:||\\mathbf{b}||\\:cos(\\theta)\\;\\;\\; \\Rightarrow \\;\\;\\; angle = arccos\\left(\\frac{dot(p2-p1,\\;p3-p2)}{norm(p2-p1)*norm(p3-p2)\\;\\;\\;\\;\\;} \\right) $$\n",
        "</span>\n",
        "\n",
        "Or using the definition of the cross product:\n",
        "\n",
        "<span class=\"notranslate\">\n",
        "$$ \\mathbf{a} \\times \\mathbf{b} = ||\\mathbf{a}||\\:||\\mathbf{b}||\\:sin(\\theta) \\;\\; \\Rightarrow \\;\\; angle = arcsin\\left(\\frac{cross(p2-p1,\\;p3-p2)}{norm(p2-p1)*norm(p3-p2)\\;\\;\\;\\;\\;} \\right) $$\n",
        "</span>\n",
        "\n",
        "But because `arctan2` has a better numerical accuracy, combine the dot and cross products, and in Python notation:\n",
        "```python\n",
        "angle = np.arctan2(np.linalg.norm(np.cross(p1-p2, p4-p3)), np.dot(p1-p2, p4-p3))\n",
        "```\n",
        "See [this notebook](http://nbviewer.ipython.org/github/demotu/BMC/blob/master/notebooks/ScalarVector.ipynb) for a review on the mathematical functions cross product and scalar product."
      ]
    },
    {
      "cell_type": "markdown",
      "metadata": {
        "id": "4Ic0Cl3rkjpH"
      },
      "source": [
        "We can use the formula above for the angle between two 3D vectors to calculate the joint angle even with the 2D vectors we calculated before:"
      ]
    },
    {
      "cell_type": "code",
      "metadata": {
        "id": "ISMWh6i0klHq",
        "outputId": "9508d7db-5113-4344-ed0f-0fb99943488f",
        "colab": {
          "base_uri": "https://localhost:8080/",
          "height": 34
        }
      },
      "source": [
        "p1, p2 = np.array([0, 0]),   np.array([1, 1])    # segment 1\n",
        "p3, p4 = np.array([1.1, 1]), np.array([2.1, 0])  # segment 2\n",
        "\n",
        "angle = np.arctan2(np.linalg.norm(np.cross(p1-p2, p4-p3)), np.dot(p1-p2, p4-p3))*180/np.pi\n",
        "\n",
        "print('Joint angle:', '{0:.1f}'.format(angle))"
      ],
      "execution_count": 31,
      "outputs": [
        {
          "output_type": "stream",
          "text": [
            "Joint angle: 90.0\n"
          ],
          "name": "stdout"
        }
      ]
    },
    {
      "cell_type": "markdown",
      "metadata": {
        "id": "l5dkxdTbkma_"
      },
      "source": [
        "As expected, the same result.  \n",
        "\n",
        "In Numpy, if the third components of vectors are zero, we don't even need to type them; Numpy takes care of adding zero as the third component for the cross product."
      ]
    },
    {
      "cell_type": "markdown",
      "metadata": {
        "id": "5FGBwWBvkp7z"
      },
      "source": [
        "## Angular position, velocity, and acceleration\n",
        "\n",
        "The angular position is a vector, its direction is given by the perpendicular axis to the plane where the angular position is described, and the motion if it occurs it's said to occur around this axis."
      ]
    },
    {
      "cell_type": "markdown",
      "metadata": {
        "id": "3rcNt5Ymkuz3"
      },
      "source": [
        "Angular velocity is the rate (with respect to time) of change of the angular position:\n",
        "\n",
        "<span class=\"notranslate\">\n",
        "$$ \\mathbf{\\omega}(t) = \\frac{\\mathbf{\\theta}(t_2)-\\mathbf{\\theta}(t_1)}{t_2-t_1} = \\frac{\\Delta \\mathbf{\\theta}}{\\Delta t}$$\n",
        "</span>\n",
        "\n",
        "<span class=\"notranslate\">\n",
        "$$ \\mathbf{\\omega}(t) = \\frac{d\\mathbf{\\theta}(t)}{dt} $$\n",
        "</span>"
      ]
    },
    {
      "cell_type": "markdown",
      "metadata": {
        "id": "uqJN5TWNk0xZ"
      },
      "source": [
        "Angular acceleration is the rate (with respect to time) of change of the angular velocity, which can also be given by the second-order rate of change of the angular position:\n",
        "\n",
        "<span class=\"notranslate\">\n",
        "$$ \\mathbf{\\alpha}(t) = \\frac{\\mathbf{\\omega}(t_2)-\\mathbf{\\omega}(t_1)}{t_2-t_1} = \\frac{\\Delta \\mathbf{\\omega}}{\\Delta t}$$\n",
        "</span>\n",
        "\n",
        "Likewise, angular acceleration is the first-order derivative of the angular velocity or the second-order derivative of the angular position vector:   \n",
        "\n",
        "<span class=\"notranslate\">\n",
        "$$ \\mathbf{\\alpha}(t) = \\frac{d\\mathbf{\\omega}(t)}{dt} = \\frac{d^2\\mathbf{\\theta}(t)}{dt^2} $$\n",
        "</span>\n",
        "\n",
        "The direction of the angular velocity and acceleration vectors is the same as the angular position (perpendicular to the plane of rotation) and the sense is given by the right-hand rule."
      ]
    },
    {
      "cell_type": "markdown",
      "metadata": {
        "id": "ol0tvt7Yk31i"
      },
      "source": [
        "### The antiderivative\n",
        "\n",
        "As the angular acceleration is the derivative of the angular velocity which is the derivative of angular position, the inverse mathematical operation is the [antiderivative](http://en.wikipedia.org/wiki/Antiderivative) (or integral):\n",
        "\n",
        "<span class=\"notranslate\">\n",
        "$$ \\mathbf{\\theta}(t) = \\mathbf{\\theta}_0 + \\int \\mathbf{\\omega}(t) dt $$\n",
        "\n",
        "$$ \\mathbf{\\omega}(t) = \\mathbf{\\omega}_0 + \\int \\mathbf{\\alpha}(t) dt $$\n",
        "</span>"
      ]
    },
    {
      "cell_type": "markdown",
      "metadata": {
        "id": "BZys4xBhk8-Z"
      },
      "source": [
        "## Relationship between linear and angular kinematics\n",
        "\n",
        "Consider a particle rotating around a point at a fixed distance `r` (circular motion), as the particle moves along the circle, it travels an arc of length `s`.   \n",
        "The angular position of the particle is:\n",
        "\n",
        "<span class=\"notranslate\">\n",
        "$$ \\theta = \\frac{s}{r} $$\n",
        "</span>\n",
        "\n",
        "Which is in fact similar to the definition of the angular measure radian:\n",
        "\n",
        "<div class='center-align'><figure><img src='http://upload.wikimedia.org/wikipedia/commons/thumb/3/3d/Radian_cropped_color.svg/220px-Radian_cropped_color.svg.png' width=200/><figcaption><center><i>Figure. An arc of a circle with the same length as the radius of that circle corresponds to an angle of 1 radian (<a href=\"https://en.wikipedia.org/wiki/Radian\">image from Wikipedia</a>).</i></center></figcaption></figure></div>"
      ]
    },
    {
      "cell_type": "markdown",
      "metadata": {
        "id": "l9BWl2kLlGkd"
      },
      "source": [
        "Then, the distance travelled by the particle is the arc length:\n",
        "\n",
        "<span class=\"notranslate\">\n",
        "$$ s = r\\theta $$\n",
        "</span>\n",
        "\n",
        "As the radius is constant, the relation between linear and angular velocity and acceleration is straightfoward:\n",
        "\n",
        "<span class=\"notranslate\">\n",
        "$$ v = \\frac{ds}{dt} = r\\frac{d\\theta}{dt} = r\\omega $$\n",
        "\n",
        "$$ a = \\frac{dv}{dt} = r\\frac{d\\omega}{dt} = r\\alpha $$\n",
        "</span>"
      ]
    },
    {
      "cell_type": "markdown",
      "metadata": {
        "id": "T9Q-JU9blLJS"
      },
      "source": [
        "## Further reading\n",
        "\n",
        "- Read pages 718-742 of the 15th chapter of the [Ruina and Rudra's book] (http://ruina.tam.cornell.edu/Book/index.html) about circular motion of particle. "
      ]
    },
    {
      "cell_type": "markdown",
      "metadata": {
        "id": "VQOn2E5FlaPo"
      },
      "source": [
        "## Video lectures on the Internet\n",
        "\n",
        "- Khan Academy: [Uniform Circular Motion Introduction](https://www.khanacademy.org/science/ap-physics-1/ap-centripetal-force-and-gravitation)\n",
        "- [Angular Motion and Torque](https://www.youtube.com/watch?v=jNc2SflUl9U)\n",
        "- [Rotational Motion Physics, Basic Introduction, Angular Velocity & Tangential Acceleration](https://www.youtube.com/watch?v=WQ9AH2S8B6Y)  "
      ]
    },
    {
      "cell_type": "markdown",
      "metadata": {
        "id": "qn_mn7izlmHv"
      },
      "source": [
        "## Problems\n",
        "\n",
        "1. A gymnast performs giant circles around the horizontal bar (with the official dimensions for  Artistic Gymnastics) at a constant rate of one circle every 2 s and consider that his center of mass is 1 m distant from the bar. At the lowest point (exactly beneath the bigh bar), the gymnast releases the bar, moves forward, and lands standing on the ground.   \n",
        " a) Calculate the angular and lineat velocity of the gymnast's center of mass at the point of release.  \n",
        " b) Calculate the horizontal distance travelled by the gymnast's center of mass.  \n",
        "\n",
        "2. With the data from Table A1 of Winter (2009) and the convention for the sagital joint angles of the lower limb:   \n",
        " a. Calculate and plot the angles of the foot, leg, and thigh segments.   \n",
        " b. Calculate and plot the angles of the ankle, knee, and hip joint.   \n",
        " c. Calculate and plot the velocities and accelerations for the angles calculated in B. \n",
        " d. Compare the ankle angle using the two different conventions described by Winter (2009), that is, defining the foot segment with the MT5 or the TOE marker.  \n",
        " e. Knowing that a stride period corresponds to the data between frames 1 and 70 (two subsequents toe-off by the right foot), can you suggest a possible candidate for automatic determination of a stride? Hint: look at the vertical displacement and acceleration of the heel marker.  \n",
        " \n",
        " [Clik here for the data from Table A.1 (Winter, 2009)](./../data/WinterTableA1.txt) from [Winter's book student site](http://bcs.wiley.com/he-bcs/Books?action=index&bcsId=5453&itemId=0470398183).  \n",
        " \n",
        " Example: load data and plot the markers' positions:"
      ]
    },
    {
      "cell_type": "code",
      "metadata": {
        "id": "BBFKdpVllr_q",
        "outputId": "5d80eaa3-0f4e-45ad-bfe4-54b914d5d9b0",
        "colab": {
          "base_uri": "https://localhost:8080/",
          "height": 370
        }
      },
      "source": [
        "filename = './../data/WinterTableA1.txt'\n",
        "data = np.loadtxt(filename, skiprows=2, unpack=False)\n",
        "markers = ['RIB CAGE', 'HIP', 'KNEE', 'FIBULA', 'ANKLE', 'HEEL', 'MT5', 'TOE']\n",
        "\n",
        "fig = plt.figure(figsize=(10, 6))\n",
        "\n",
        "ax = plt.subplot2grid((2,2),(0, 0))\n",
        "ax.plot(data[: ,1], data[:, 2::2])\n",
        "ax.set_xlabel('Time [s]', fontsize=14)\n",
        "ax.set_ylabel('Horizontal [cm]', fontsize=14)\n",
        "\n",
        "ax = plt.subplot2grid((2, 2),(0, 1))\n",
        "ax.plot(data[: ,1], data[:, 3::2])\n",
        "ax.set_xlabel('Time [s]', fontsize=14)\n",
        "ax.set_ylabel('Vertical [cm]', fontsize=14)\n",
        "\n",
        "ax = plt.subplot2grid((2, 2), (1, 0), colspan=2)\n",
        "ax.plot(data[:, 2::2], data[:, 3::2])\n",
        "ax.set_xlabel('Horizontal [cm]', fontsize=14)\n",
        "ax.set_ylabel('Vertical [cm]', fontsize=14)\n",
        "plt.suptitle('Table A.1 (Winter, 2009): female, 22 yrs, 55.7 kg, 156 cm, ' \\\n",
        "             'fast cadence (115 steps/min)', y=1.02, fontsize=14)\n",
        "ax.legend(markers, loc=\"upper right\", bbox_to_anchor=(1.21, 2), title='Markers')\n",
        "plt.tight_layout()"
      ],
      "execution_count": 32,
      "outputs": [
        {
          "output_type": "error",
          "ename": "OSError",
          "evalue": "ignored",
          "traceback": [
            "\u001b[0;31m---------------------------------------------------------------------------\u001b[0m",
            "\u001b[0;31mOSError\u001b[0m                                   Traceback (most recent call last)",
            "\u001b[0;32m<ipython-input-32-76c494f7d142>\u001b[0m in \u001b[0;36m<module>\u001b[0;34m()\u001b[0m\n\u001b[1;32m      1\u001b[0m \u001b[0mfilename\u001b[0m \u001b[0;34m=\u001b[0m \u001b[0;34m'./../data/WinterTableA1.txt'\u001b[0m\u001b[0;34m\u001b[0m\u001b[0;34m\u001b[0m\u001b[0m\n\u001b[0;32m----> 2\u001b[0;31m \u001b[0mdata\u001b[0m \u001b[0;34m=\u001b[0m \u001b[0mnp\u001b[0m\u001b[0;34m.\u001b[0m\u001b[0mloadtxt\u001b[0m\u001b[0;34m(\u001b[0m\u001b[0mfilename\u001b[0m\u001b[0;34m,\u001b[0m \u001b[0mskiprows\u001b[0m\u001b[0;34m=\u001b[0m\u001b[0;36m2\u001b[0m\u001b[0;34m,\u001b[0m \u001b[0munpack\u001b[0m\u001b[0;34m=\u001b[0m\u001b[0;32mFalse\u001b[0m\u001b[0;34m)\u001b[0m\u001b[0;34m\u001b[0m\u001b[0;34m\u001b[0m\u001b[0m\n\u001b[0m\u001b[1;32m      3\u001b[0m \u001b[0mmarkers\u001b[0m \u001b[0;34m=\u001b[0m \u001b[0;34m[\u001b[0m\u001b[0;34m'RIB CAGE'\u001b[0m\u001b[0;34m,\u001b[0m \u001b[0;34m'HIP'\u001b[0m\u001b[0;34m,\u001b[0m \u001b[0;34m'KNEE'\u001b[0m\u001b[0;34m,\u001b[0m \u001b[0;34m'FIBULA'\u001b[0m\u001b[0;34m,\u001b[0m \u001b[0;34m'ANKLE'\u001b[0m\u001b[0;34m,\u001b[0m \u001b[0;34m'HEEL'\u001b[0m\u001b[0;34m,\u001b[0m \u001b[0;34m'MT5'\u001b[0m\u001b[0;34m,\u001b[0m \u001b[0;34m'TOE'\u001b[0m\u001b[0;34m]\u001b[0m\u001b[0;34m\u001b[0m\u001b[0;34m\u001b[0m\u001b[0m\n\u001b[1;32m      4\u001b[0m \u001b[0;34m\u001b[0m\u001b[0m\n\u001b[1;32m      5\u001b[0m \u001b[0mfig\u001b[0m \u001b[0;34m=\u001b[0m \u001b[0mplt\u001b[0m\u001b[0;34m.\u001b[0m\u001b[0mfigure\u001b[0m\u001b[0;34m(\u001b[0m\u001b[0mfigsize\u001b[0m\u001b[0;34m=\u001b[0m\u001b[0;34m(\u001b[0m\u001b[0;36m10\u001b[0m\u001b[0;34m,\u001b[0m \u001b[0;36m6\u001b[0m\u001b[0;34m)\u001b[0m\u001b[0;34m)\u001b[0m\u001b[0;34m\u001b[0m\u001b[0;34m\u001b[0m\u001b[0m\n",
            "\u001b[0;32m/usr/local/lib/python3.6/dist-packages/numpy/lib/npyio.py\u001b[0m in \u001b[0;36mloadtxt\u001b[0;34m(fname, dtype, comments, delimiter, converters, skiprows, usecols, unpack, ndmin, encoding, max_rows)\u001b[0m\n\u001b[1;32m    979\u001b[0m             \u001b[0mfname\u001b[0m \u001b[0;34m=\u001b[0m \u001b[0mos_fspath\u001b[0m\u001b[0;34m(\u001b[0m\u001b[0mfname\u001b[0m\u001b[0;34m)\u001b[0m\u001b[0;34m\u001b[0m\u001b[0;34m\u001b[0m\u001b[0m\n\u001b[1;32m    980\u001b[0m         \u001b[0;32mif\u001b[0m \u001b[0m_is_string_like\u001b[0m\u001b[0;34m(\u001b[0m\u001b[0mfname\u001b[0m\u001b[0;34m)\u001b[0m\u001b[0;34m:\u001b[0m\u001b[0;34m\u001b[0m\u001b[0;34m\u001b[0m\u001b[0m\n\u001b[0;32m--> 981\u001b[0;31m             \u001b[0mfh\u001b[0m \u001b[0;34m=\u001b[0m \u001b[0mnp\u001b[0m\u001b[0;34m.\u001b[0m\u001b[0mlib\u001b[0m\u001b[0;34m.\u001b[0m\u001b[0m_datasource\u001b[0m\u001b[0;34m.\u001b[0m\u001b[0mopen\u001b[0m\u001b[0;34m(\u001b[0m\u001b[0mfname\u001b[0m\u001b[0;34m,\u001b[0m \u001b[0;34m'rt'\u001b[0m\u001b[0;34m,\u001b[0m \u001b[0mencoding\u001b[0m\u001b[0;34m=\u001b[0m\u001b[0mencoding\u001b[0m\u001b[0;34m)\u001b[0m\u001b[0;34m\u001b[0m\u001b[0;34m\u001b[0m\u001b[0m\n\u001b[0m\u001b[1;32m    982\u001b[0m             \u001b[0mfencoding\u001b[0m \u001b[0;34m=\u001b[0m \u001b[0mgetattr\u001b[0m\u001b[0;34m(\u001b[0m\u001b[0mfh\u001b[0m\u001b[0;34m,\u001b[0m \u001b[0;34m'encoding'\u001b[0m\u001b[0;34m,\u001b[0m \u001b[0;34m'latin1'\u001b[0m\u001b[0;34m)\u001b[0m\u001b[0;34m\u001b[0m\u001b[0;34m\u001b[0m\u001b[0m\n\u001b[1;32m    983\u001b[0m             \u001b[0mfh\u001b[0m \u001b[0;34m=\u001b[0m \u001b[0miter\u001b[0m\u001b[0;34m(\u001b[0m\u001b[0mfh\u001b[0m\u001b[0;34m)\u001b[0m\u001b[0;34m\u001b[0m\u001b[0;34m\u001b[0m\u001b[0m\n",
            "\u001b[0;32m/usr/local/lib/python3.6/dist-packages/numpy/lib/_datasource.py\u001b[0m in \u001b[0;36mopen\u001b[0;34m(path, mode, destpath, encoding, newline)\u001b[0m\n\u001b[1;32m    267\u001b[0m \u001b[0;34m\u001b[0m\u001b[0m\n\u001b[1;32m    268\u001b[0m     \u001b[0mds\u001b[0m \u001b[0;34m=\u001b[0m \u001b[0mDataSource\u001b[0m\u001b[0;34m(\u001b[0m\u001b[0mdestpath\u001b[0m\u001b[0;34m)\u001b[0m\u001b[0;34m\u001b[0m\u001b[0;34m\u001b[0m\u001b[0m\n\u001b[0;32m--> 269\u001b[0;31m     \u001b[0;32mreturn\u001b[0m \u001b[0mds\u001b[0m\u001b[0;34m.\u001b[0m\u001b[0mopen\u001b[0m\u001b[0;34m(\u001b[0m\u001b[0mpath\u001b[0m\u001b[0;34m,\u001b[0m \u001b[0mmode\u001b[0m\u001b[0;34m,\u001b[0m \u001b[0mencoding\u001b[0m\u001b[0;34m=\u001b[0m\u001b[0mencoding\u001b[0m\u001b[0;34m,\u001b[0m \u001b[0mnewline\u001b[0m\u001b[0;34m=\u001b[0m\u001b[0mnewline\u001b[0m\u001b[0;34m)\u001b[0m\u001b[0;34m\u001b[0m\u001b[0;34m\u001b[0m\u001b[0m\n\u001b[0m\u001b[1;32m    270\u001b[0m \u001b[0;34m\u001b[0m\u001b[0m\n\u001b[1;32m    271\u001b[0m \u001b[0;34m\u001b[0m\u001b[0m\n",
            "\u001b[0;32m/usr/local/lib/python3.6/dist-packages/numpy/lib/_datasource.py\u001b[0m in \u001b[0;36mopen\u001b[0;34m(self, path, mode, encoding, newline)\u001b[0m\n\u001b[1;32m    621\u001b[0m                                       encoding=encoding, newline=newline)\n\u001b[1;32m    622\u001b[0m         \u001b[0;32melse\u001b[0m\u001b[0;34m:\u001b[0m\u001b[0;34m\u001b[0m\u001b[0;34m\u001b[0m\u001b[0m\n\u001b[0;32m--> 623\u001b[0;31m             \u001b[0;32mraise\u001b[0m \u001b[0mIOError\u001b[0m\u001b[0;34m(\u001b[0m\u001b[0;34m\"%s not found.\"\u001b[0m \u001b[0;34m%\u001b[0m \u001b[0mpath\u001b[0m\u001b[0;34m)\u001b[0m\u001b[0;34m\u001b[0m\u001b[0;34m\u001b[0m\u001b[0m\n\u001b[0m\u001b[1;32m    624\u001b[0m \u001b[0;34m\u001b[0m\u001b[0m\n\u001b[1;32m    625\u001b[0m \u001b[0;34m\u001b[0m\u001b[0m\n",
            "\u001b[0;31mOSError\u001b[0m: ./../data/WinterTableA1.txt not found."
          ]
        }
      ]
    },
    {
      "cell_type": "markdown",
      "metadata": {
        "id": "zKR_iv2vlvCS"
      },
      "source": [
        "## References\n",
        "\n",
        "- Winter DA (2009) [Biomechanics and motor control of human movement](http://books.google.com.br/books?id=_bFHL08IWfwC). 4th edition. Hoboken, EUA: Wiley."
      ]
    }
  ]
}